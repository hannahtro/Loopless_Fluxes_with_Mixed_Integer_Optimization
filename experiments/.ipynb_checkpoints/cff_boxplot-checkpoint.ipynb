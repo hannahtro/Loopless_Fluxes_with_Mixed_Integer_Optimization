{
 "cells": [
  {
   "cell_type": "code",
   "execution_count": 26,
   "id": "fe9c453b-82be-4c20-a328-fb2c0f664612",
   "metadata": {},
   "outputs": [],
   "source": [
    "import matplotlib.pyplot as plt\n",
    "import pandas as pd\n",
    "import numpy as np\n",
    "import seaborn as sns\n",
    "from matplotlib.legend_handler import HandlerTuple"
   ]
  },
  {
   "cell_type": "code",
   "execution_count": 60,
   "id": "9926a3a5-0031-4df0-afe0-59e4e6055226",
   "metadata": {},
   "outputs": [],
   "source": [
    "def load_data(filename='csv/results_cff.csv', indicator_and_big_m=False, seeds=range(1,5)):\n",
    "    # load df \n",
    "    df_data = pd.read_csv(filename)\n",
    "    # df_data = df_data.sort_values('time_loopless_fba')\n",
    "    # print(df_data)\n",
    "    data = {}\n",
    "    data[\"organism\"] = df_data[\"organism\"]\n",
    "\n",
    "    # # ll fba data\n",
    "    # data[\"time_ll_fba\"] = df_data[\"time_loopless_fba\"].to_list()\n",
    "\n",
    "    # cycles blocked \n",
    "    data[\"time_ll_fba_blocked_10\"] = df_data[\"time_loopless_fba_blocked_10\"].to_list()\n",
    "    for seed in seeds:\n",
    "        data[\"time_ll_fba_blocked_10_\" + str(seed)] = df_data[\"time_loopless_fba_blocked_10_1800_scip_seed_\" + str(seed)].to_list()\n",
    "    data[\"time_ll_fba_blocked_20\"] = df_data[\"time_loopless_fba_blocked_20\"].to_list()\n",
    "    for seed in seeds:\n",
    "        data[\"time_ll_fba_blocked_20_\" + str(seed)] = df_data[\"time_loopless_fba_blocked_20_1800_scip_seed_\" + str(seed)].to_list()\n",
    "    data[\"time_ll_fba_blocked_50\"] = df_data[\"time_loopless_fba_blocked_50\"].to_list()\n",
    "    for seed in seeds:\n",
    "        data[\"time_ll_fba_blocked_50_\" + str(seed)] = df_data[\"time_loopless_fba_blocked_50_1800_scip_seed_\" + str(seed)].to_list()\n",
    "    data[\"time_ll_fba_blocked_100\"] = df_data[\"time_loopless_fba_blocked_100\"].to_list()\n",
    "    for seed in seeds:\n",
    "        data[\"time_ll_fba_blocked_100_\" + str(seed)] = df_data[\"time_loopless_fba_blocked_100_1800_scip_seed_\" + str(seed)].to_list()\n",
    "\n",
    "    # shortest cycles blocked\n",
    "    data[\"time_ll_fba_blocked_shortest_cycles_10\"] = df_data[\"time_loopless_fba_blocked_shortest_cycles_10\"].to_list()\n",
    "    for seed in seeds:\n",
    "        data[\"time_ll_fba_blocked_shortest_cycles_10_\" + str(seed)] = df_data[\"time_loopless_fba_blocked_shortest_cycles_10_1800_scip_seed_\" + str(seed)].to_list()\n",
    "    data[\"time_ll_fba_blocked_shortest_cycles_20\"] = df_data[\"time_loopless_fba_blocked_shortest_cycles_20\"].to_list()\n",
    "    for seed in seeds:\n",
    "        data[\"time_ll_fba_blocked_shortest_cycles_20_\" + str(seed)] = df_data[\"time_loopless_fba_blocked_shortest_cycles_20_1800_scip_seed_\" + str(seed)].to_list()\n",
    "    data[\"time_ll_fba_blocked_shortest_cycles_50\"] = df_data[\"time_loopless_fba_blocked_shortest_cycles_50\"].to_list()\n",
    "    for seed in seeds:\n",
    "        data[\"time_ll_fba_blocked_shortest_cycles_50_\" + str(seed)] = df_data[\"time_loopless_fba_blocked_shortest_cycles_50_1800_scip_seed_\" + str(seed)].to_list()\n",
    "    data[\"time_ll_fba_blocked_shortest_cycles_100\"] = df_data[\"time_loopless_fba_blocked_shortest_cycles_100\"].to_list()\n",
    "    for seed in seeds:\n",
    "        data[\"time_ll_fba_blocked_shortest_cycles_100_\" + str(seed)] = df_data[\"time_loopless_fba_blocked_shortest_cycles_100_1800_scip_seed_\" + str(seed)].to_list()\n",
    "    \n",
    "    return data "
   ]
  },
  {
   "cell_type": "code",
   "execution_count": 22,
   "id": "b6124aa4-158b-4363-8f8d-1ba3f69270bb",
   "metadata": {},
   "outputs": [],
   "source": [
    "def build_solved_instances_plot(filename, colors, markerstyles, save_as=\"\", indicator_and_big_m=False):\n",
    "    data = load_data(filename, indicator_and_big_m=indicator_and_big_m)\n",
    "\n",
    "    # print(data.keys())\n",
    "    # create solved instances plot\n",
    "    fig, axs = plt.subplots(1, 1, figsize=[8.0, 3.8]) #, layout='constrained')\n",
    "\n",
    "    data_blocked_10 = [\n",
    "        data[\"time_ll_fba_blocked_10\"][1], \n",
    "        data[\"time_ll_fba_blocked_10_1\"][1], \n",
    "        data[\"time_ll_fba_blocked_10_2\"][1], \n",
    "        data[\"time_ll_fba_blocked_10_3\"][1], \n",
    "        data[\"time_ll_fba_blocked_10_4\"][1]\n",
    "    ]\n",
    "\n",
    "    print(data_blocked_10)\n",
    "    axs.boxplot(data_blocked_10)\n",
    "    # axs.scatter(data[\"organism\"], data[\"time_ll_fba_blocked_10\"], color=colors[1], marker=markerstyles[1], label=\"cycles blocked (limit 10)\", s=80)     \n",
    "    # axs.scatter(data[\"organism\"], data[\"time_ll_fba_blocked_20\"], color=colors[2], marker=markerstyles[2], label=\"cycles blocked (limit 20)\", s=80)\n",
    "    # axs.scatter(data[\"organism\"], data[\"time_ll_fba_blocked_50\"], color=colors[3], marker=markerstyles[3], label=\"cycles blocked (limit 50)\", s=80)\n",
    "    # axs.scatter(data[\"organism\"], data[\"time_ll_fba_blocked_100\"], color=colors[4], marker=markerstyles[4], label=\"cycles blocked (limit 100)\", s=80)\n",
    "    # axs.scatter(data[\"organism\"], data[\"time_ll_fba_blocked_shortest_cycles_10\"], color=colors[5], marker=markerstyles[5], label=\"shortest cycles blocked (limit 10)\", s=80)\n",
    "    # axs.scatter(data[\"organism\"], data[\"time_ll_fba_blocked_shortest_cycles_20\"], color=colors[6], marker=markerstyles[6], label=\"shortest cycles blocked (limit 20)\")\n",
    "    # axs.scatter(data[\"organism\"], data[\"time_ll_fba_blocked_shortest_cycles_50\"], color=colors[7], marker=markerstyles[7], label=\"shortest cycles blocked (limit 50)\")\n",
    "    # axs.scatter(data[\"organism\"], data[\"time_ll_fba_blocked_shortest_cycles_100\"], color=colors[8], marker=markerstyles[8], label=\"shortest cycles blocked (limit 100)\")\n",
    "\n",
    "    # axs.scatter(data[\"organism\"], data[\"time_ll_fba\"], color=colors[0], label=\"ll FBA\", marker=markerstyles[0], s=80)\n",
    "\n",
    "    axs.set_ylabel('time (s)')\n",
    "    axs.grid(True)\n",
    "\n",
    "    lines = []\n",
    "    labels = []\n",
    "    for ax in fig.axes:\n",
    "        Line, Label = ax.get_legend_handles_labels()\n",
    "        # print(Label)\n",
    "        lines.extend(Line)\n",
    "        labels.extend(Label)\n",
    "\n",
    "    fig.legend(lines, labels, loc='center', bbox_to_anchor=(0.52, -0.25), ncol=2)\n",
    "    plt.tight_layout(pad=0.4, w_pad=0.5, h_pad=1.0)\n",
    "    plt.xticks(rotation=60)\n",
    "\n",
    "    plt.show()\n",
    "    # if save_as == \"\":\n",
    "    #     plt.savefig(\"plots/comparison_solved_instances_gecko.pdf\", format=\"pdf\", bbox_inches=\"tight\")\n",
    "    # else:\n",
    "    #     plt.savefig(save_as, format=\"pdf\", bbox_inches=\"tight\")\n",
    "    # plt.clf()\n"
   ]
  },
  {
   "cell_type": "code",
   "execution_count": 31,
   "id": "e61a4be7-22d8-44b3-ad51-e98dd2db5f81",
   "metadata": {},
   "outputs": [
    {
     "name": "stdout",
     "output_type": "stream",
     "text": [
      "[29.163553, 32.098601, 31.846182, 31.819585, 31.795673]\n"
     ]
    },
    {
     "data": {
      "image/png": "[encoded data removed]",
      "text/plain": [
       "<Figure size 800x380 with 1 Axes>"
      ]
     },
     "metadata": {},
     "output_type": "display_data"
    }
   ],
   "source": [
    "# make plots\n",
    "colors=['#377eb8', '#ff7f00', '#4daf4a', '#f781bf', '#a65628', '#984ea3', '#999999', '#e41a1c', '#dede00']\n",
    "markerstyles=[\"s\", \"D\", \"o\", \"^\", \"v\", \"h\", \"star\"]\n",
    "\n",
    "build_solved_instances_plot(\"csv/results_cff.csv\", colors, markerstyles, save_as=\"plots/cff_comparison_boxplot.pdf\")"
   ]
  },
  {
   "cell_type": "code",
   "execution_count": 98,
   "id": "b87de391-5123-47b8-bb0a-1d7666eb1df9",
   "metadata": {},
   "outputs": [],
   "source": [
    "def build_df_in_sns_format(load_from=\"csv/results_cff.csv\", seeds=range(1,5), limits=[10,20,50,100]):\n",
    "    data = load_data(load_from)\n",
    "    df_data = pd.DataFrame.from_dict(data)\n",
    "\n",
    "    organisms = list(df_data[\"organism\"])\n",
    "    setups = []\n",
    "    for limit in limits:\n",
    "        setups.append(\"ll_fba_blocked_\" + str(limit))\n",
    "        setups.append(\"ll_fba_blocked_shortest_cycles_\" + str(limit))\n",
    "        \n",
    "    cols = [col for col in df_data if col != \"organism\"]\n",
    "    \n",
    "    schema={'time': 'float64', 'organism': 'string', 'setup' : 'string', 'seed' : 'int64'}\n",
    "    df = pd.DataFrame(columns=schema.keys()).astype(schema)\n",
    "    for row_idx, row in df_data.iterrows():\n",
    "        # print(row)\n",
    "        for col in [\"time_ll_fba_blocked_10\", \"time_ll_fba_blocked_10_1\"]:#df_data:\n",
    "            print(col)\n",
    "            setup = [substr for substr in cols if substr in col][0]\n",
    "            # time = \n",
    "            seed = col.replace(setup + \"_\", \"\")\n",
    "            print(setup, seed)\n",
    "            df = pd.concat([df, pd.DataFrame([time, row.organism, setup, seed])], ignore_index=True)\n",
    "    return df\n",
    "            "
   ]
  },
  {
   "cell_type": "code",
   "execution_count": 99,
   "id": "a03a96ee-cc73-42ae-8ce4-3a2dfeb74d0c",
   "metadata": {},
   "outputs": [
    {
     "name": "stdout",
     "output_type": "stream",
     "text": [
      "time_ll_fba_blocked_10 time_ll_fba_blocked_10\n"
     ]
    },
    {
     "ename": "NameError",
     "evalue": "name 'time' is not defined",
     "output_type": "error",
     "traceback": [
      "\u001b[0;31m---------------------------------------------------------------------------\u001b[0m",
      "\u001b[0;31mNameError\u001b[0m                                 Traceback (most recent call last)",
      "Cell \u001b[0;32mIn[99], line 1\u001b[0m\n\u001b[0;32m----> 1\u001b[0m df \u001b[38;5;241m=\u001b[39m build_df_in_sns_format()\n\u001b[1;32m      2\u001b[0m \u001b[38;5;28mprint\u001b[39m(df)\n",
      "Cell \u001b[0;32mIn[98], line 22\u001b[0m, in \u001b[0;36mbuild_df_in_sns_format\u001b[0;34m(load_from, seeds, limits)\u001b[0m\n\u001b[1;32m     20\u001b[0m         seed \u001b[38;5;241m=\u001b[39m col\u001b[38;5;241m.\u001b[39mreplace(setup \u001b[38;5;241m+\u001b[39m \u001b[38;5;124m\"\u001b[39m\u001b[38;5;124m_\u001b[39m\u001b[38;5;124m\"\u001b[39m, \u001b[38;5;124m\"\u001b[39m\u001b[38;5;124m\"\u001b[39m)\n\u001b[1;32m     21\u001b[0m         \u001b[38;5;28mprint\u001b[39m(setup, seed)\n\u001b[0;32m---> 22\u001b[0m         df \u001b[38;5;241m=\u001b[39m pd\u001b[38;5;241m.\u001b[39mconcat([df, pd\u001b[38;5;241m.\u001b[39mDataFrame([time, row\u001b[38;5;241m.\u001b[39morganism, setup, seed])], ignore_index\u001b[38;5;241m=\u001b[39m\u001b[38;5;28;01mTrue\u001b[39;00m)\n\u001b[1;32m     23\u001b[0m \u001b[38;5;28;01mreturn\u001b[39;00m df\n",
      "\u001b[0;31mNameError\u001b[0m: name 'time' is not defined"
     ]
    }
   ],
   "source": [
    "df = build_df_in_sns_format()\n",
    "print(df)"
   ]
  },
  {
   "cell_type": "code",
   "execution_count": 72,
   "id": "471da3c7-96eb-4491-9986-94be32b9b7c2",
   "metadata": {},
   "outputs": [],
   "source": [
    "limits=[10,20,50,100]\n",
    "setups = []\n",
    "for limit in limits:\n",
    "    setups.append(\"ll_fba_blocked_\" + str(limit))\n",
    "    setups.append(\"ll_fba_blocked_shortest_cycles_\" + str(limit))"
   ]
  },
  {
   "cell_type": "code",
   "execution_count": 73,
   "id": "bf6a3319-daad-40c7-b8cb-8f10fe016ace",
   "metadata": {},
   "outputs": [
    {
     "data": {
      "text/plain": [
       "['ll_fba_blocked_10',\n",
       " 'll_fba_blocked_shortest_cycles_10',\n",
       " 'll_fba_blocked_20',\n",
       " 'll_fba_blocked_shortest_cycles_20',\n",
       " 'll_fba_blocked_50',\n",
       " 'll_fba_blocked_shortest_cycles_50',\n",
       " 'll_fba_blocked_100',\n",
       " 'll_fba_blocked_shortest_cycles_100']"
      ]
     },
     "execution_count": 73,
     "metadata": {},
     "output_type": "execute_result"
    }
   ],
   "source": [
    "setups"
   ]
  },
  {
   "cell_type": "code",
   "execution_count": 57,
   "id": "dfbe624e-cf88-40f1-bfdd-db8ee5a20a19",
   "metadata": {},
   "outputs": [
    {
     "name": "stdout",
     "output_type": "stream",
     "text": [
      "iAF692\n",
      "iJR904\n",
      "iML1515\n",
      "e_coli_core\n",
      "iNJ661\n",
      "iCN900\n",
      "iEK1008\n",
      "iMM904\n",
      "iSFV_1184\n"
     ]
    }
   ],
   "source": [
    "for row_idx, row in df.iterrows():\n",
    "    print(row[\"organism\"])"
   ]
  },
  {
   "cell_type": "code",
   "execution_count": 27,
   "id": "3aff7f91-6257-4991-a838-76de70aa28a8",
   "metadata": {},
   "outputs": [
    {
     "name": "stderr",
     "output_type": "stream",
     "text": [
      "/home/hannah/anaconda3/envs/my_env/lib/python3.12/site-packages/seaborn/categorical.py:641: FutureWarning: The default of observed=False is deprecated and will be changed to True in a future version of pandas. Pass observed=False to retain current behavior or observed=True to adopt the future default and silence this warning.\n",
      "  grouped_vals = vals.groupby(grouper)\n",
      "/home/hannah/anaconda3/envs/my_env/lib/python3.12/site-packages/seaborn/_oldcore.py:1119: FutureWarning: use_inf_as_na option is deprecated and will be removed in a future version. Convert inf values to NaN before operating instead.\n",
      "  with pd.option_context('mode.use_inf_as_na', True):\n",
      "/home/hannah/anaconda3/envs/my_env/lib/python3.12/site-packages/seaborn/_oldcore.py:1119: FutureWarning: use_inf_as_na option is deprecated and will be removed in a future version. Convert inf values to NaN before operating instead.\n",
      "  with pd.option_context('mode.use_inf_as_na', True):\n",
      "/home/hannah/anaconda3/envs/my_env/lib/python3.12/site-packages/seaborn/_oldcore.py:1057: FutureWarning: The default of observed=False is deprecated and will be changed to True in a future version of pandas. Pass observed=False to retain current behavior or observed=True to adopt the future default and silence this warning.\n",
      "  grouped_data = data.groupby(\n"
     ]
    },
    {
     "data": {
      "text/plain": [
       "<matplotlib.legend.Legend at 0x7664e2043bc0>"
      ]
     },
     "execution_count": 27,
     "metadata": {},
     "output_type": "execute_result"
    },
    {
     "data": {
      "image/png": "[encoded data removed]",
      "text/plain": [
       "<Figure size 640x480 with 1 Axes>"
      ]
     },
     "metadata": {},
     "output_type": "display_data"
    }
   ],
   "source": [
    "tips = sns.load_dataset(\"tips\")\n",
    "ax = sns.boxplot(data=tips, x=\"day\", y=\"total_bill\",\n",
    "                 hue=\"smoker\", hue_order=['Yes', 'No'], boxprops={'alpha': 0.4})\n",
    "sns.stripplot(data=tips, x=\"day\", y=\"total_bill\",\n",
    "              hue=\"smoker\", hue_order=['Yes', 'No'], dodge=True, ax=ax)\n",
    "handles, labels = ax.get_legend_handles_labels()\n",
    "ax.legend(handles=[(handles[0], handles[2]), (handles[1], handles[3])],\n",
    "          labels=['Smoker', 'Non-smoker'],\n",
    "          loc='upper left', handlelength=4,\n",
    "          handler_map={tuple: HandlerTuple(ndivide=None)})"
   ]
  },
  {
   "cell_type": "code",
   "execution_count": 30,
   "id": "041a32b4-3e31-4ead-9fa4-184bdd60f4ec",
   "metadata": {},
   "outputs": [
    {
     "data": {
      "text/html": [
       "<div>\n",
       "<style scoped>\n",
       "    .dataframe tbody tr th:only-of-type {\n",
       "        vertical-align: middle;\n",
       "    }\n",
       "\n",
       "    .dataframe tbody tr th {\n",
       "        vertical-align: top;\n",
       "    }\n",
       "\n",
       "    .dataframe thead th {\n",
       "        text-align: right;\n",
       "    }\n",
       "</style>\n",
       "<table border=\"1\" class=\"dataframe\">\n",
       "  <thead>\n",
       "    <tr style=\"text-align: right;\">\n",
       "      <th></th>\n",
       "      <th>total_bill</th>\n",
       "      <th>tip</th>\n",
       "      <th>sex</th>\n",
       "      <th>smoker</th>\n",
       "      <th>day</th>\n",
       "      <th>time</th>\n",
       "      <th>size</th>\n",
       "    </tr>\n",
       "  </thead>\n",
       "  <tbody>\n",
       "    <tr>\n",
       "      <th>0</th>\n",
       "      <td>16.99</td>\n",
       "      <td>1.01</td>\n",
       "      <td>Female</td>\n",
       "      <td>No</td>\n",
       "      <td>Sun</td>\n",
       "      <td>Dinner</td>\n",
       "      <td>2</td>\n",
       "    </tr>\n",
       "    <tr>\n",
       "      <th>1</th>\n",
       "      <td>10.34</td>\n",
       "      <td>1.66</td>\n",
       "      <td>Male</td>\n",
       "      <td>No</td>\n",
       "      <td>Sun</td>\n",
       "      <td>Dinner</td>\n",
       "      <td>3</td>\n",
       "    </tr>\n",
       "    <tr>\n",
       "      <th>2</th>\n",
       "      <td>21.01</td>\n",
       "      <td>3.50</td>\n",
       "      <td>Male</td>\n",
       "      <td>No</td>\n",
       "      <td>Sun</td>\n",
       "      <td>Dinner</td>\n",
       "      <td>3</td>\n",
       "    </tr>\n",
       "    <tr>\n",
       "      <th>3</th>\n",
       "      <td>23.68</td>\n",
       "      <td>3.31</td>\n",
       "      <td>Male</td>\n",
       "      <td>No</td>\n",
       "      <td>Sun</td>\n",
       "      <td>Dinner</td>\n",
       "      <td>2</td>\n",
       "    </tr>\n",
       "    <tr>\n",
       "      <th>4</th>\n",
       "      <td>24.59</td>\n",
       "      <td>3.61</td>\n",
       "      <td>Female</td>\n",
       "      <td>No</td>\n",
       "      <td>Sun</td>\n",
       "      <td>Dinner</td>\n",
       "      <td>4</td>\n",
       "    </tr>\n",
       "    <tr>\n",
       "      <th>...</th>\n",
       "      <td>...</td>\n",
       "      <td>...</td>\n",
       "      <td>...</td>\n",
       "      <td>...</td>\n",
       "      <td>...</td>\n",
       "      <td>...</td>\n",
       "      <td>...</td>\n",
       "    </tr>\n",
       "    <tr>\n",
       "      <th>239</th>\n",
       "      <td>29.03</td>\n",
       "      <td>5.92</td>\n",
       "      <td>Male</td>\n",
       "      <td>No</td>\n",
       "      <td>Sat</td>\n",
       "      <td>Dinner</td>\n",
       "      <td>3</td>\n",
       "    </tr>\n",
       "    <tr>\n",
       "      <th>240</th>\n",
       "      <td>27.18</td>\n",
       "      <td>2.00</td>\n",
       "      <td>Female</td>\n",
       "      <td>Yes</td>\n",
       "      <td>Sat</td>\n",
       "      <td>Dinner</td>\n",
       "      <td>2</td>\n",
       "    </tr>\n",
       "    <tr>\n",
       "      <th>241</th>\n",
       "      <td>22.67</td>\n",
       "      <td>2.00</td>\n",
       "      <td>Male</td>\n",
       "      <td>Yes</td>\n",
       "      <td>Sat</td>\n",
       "      <td>Dinner</td>\n",
       "      <td>2</td>\n",
       "    </tr>\n",
       "    <tr>\n",
       "      <th>242</th>\n",
       "      <td>17.82</td>\n",
       "      <td>1.75</td>\n",
       "      <td>Male</td>\n",
       "      <td>No</td>\n",
       "      <td>Sat</td>\n",
       "      <td>Dinner</td>\n",
       "      <td>2</td>\n",
       "    </tr>\n",
       "    <tr>\n",
       "      <th>243</th>\n",
       "      <td>18.78</td>\n",
       "      <td>3.00</td>\n",
       "      <td>Female</td>\n",
       "      <td>No</td>\n",
       "      <td>Thur</td>\n",
       "      <td>Dinner</td>\n",
       "      <td>2</td>\n",
       "    </tr>\n",
       "  </tbody>\n",
       "</table>\n",
       "<p>244 rows × 7 columns</p>\n",
       "</div>"
      ],
      "text/plain": [
       "     total_bill   tip     sex smoker   day    time  size\n",
       "0         16.99  1.01  Female     No   Sun  Dinner     2\n",
       "1         10.34  1.66    Male     No   Sun  Dinner     3\n",
       "2         21.01  3.50    Male     No   Sun  Dinner     3\n",
       "3         23.68  3.31    Male     No   Sun  Dinner     2\n",
       "4         24.59  3.61  Female     No   Sun  Dinner     4\n",
       "..          ...   ...     ...    ...   ...     ...   ...\n",
       "239       29.03  5.92    Male     No   Sat  Dinner     3\n",
       "240       27.18  2.00  Female    Yes   Sat  Dinner     2\n",
       "241       22.67  2.00    Male    Yes   Sat  Dinner     2\n",
       "242       17.82  1.75    Male     No   Sat  Dinner     2\n",
       "243       18.78  3.00  Female     No  Thur  Dinner     2\n",
       "\n",
       "[244 rows x 7 columns]"
      ]
     },
     "execution_count": 30,
     "metadata": {},
     "output_type": "execute_result"
    }
   ],
   "source": [
    "tips"
   ]
  },
  {
   "cell_type": "code",
   "execution_count": null,
   "id": "06f1e254-5f9b-4d62-abcb-c08b6309d21e",
   "metadata": {},
   "outputs": [],
   "source": []
  }
 ],
 "metadata": {
  "kernelspec": {
   "display_name": "Python 3 (ipykernel)",
   "language": "python",
   "name": "python3"
  },
  "language_info": {
   "codemirror_mode": {
    "name": "ipython",
    "version": 3
   },
   "file_extension": ".py",
   "mimetype": "text/x-python",
   "name": "python",
   "nbconvert_exporter": "python",
   "pygments_lexer": "ipython3",
   "version": "3.12.2"
  }
 },
 "nbformat": 4,
 "nbformat_minor": 5
}
