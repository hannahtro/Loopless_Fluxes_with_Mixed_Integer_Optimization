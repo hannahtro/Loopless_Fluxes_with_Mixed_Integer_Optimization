{
 "cells": [
  {
   "cell_type": "code",
   "execution_count": 1,
   "metadata": {},
   "outputs": [],
   "source": [
    "import pandas as pd"
   ]
  },
  {
   "cell_type": "code",
   "execution_count": 2,
   "metadata": {},
   "outputs": [],
   "source": [
    "file='csv/results_bigg_SCIP.csv'\n",
    "file_cut_selection='csv/results_bigg_cut_selection_SCIP.csv'"
   ]
  },
  {
   "cell_type": "code",
   "execution_count": 12,
   "metadata": {},
   "outputs": [
    {
     "name": "stdout",
     "output_type": "stream",
     "text": [
      "True\n"
     ]
    }
   ],
   "source": [
    "df_data = pd.read_csv(file)\n",
    "print(\"termination_cb_mis_2.0\" in list(df_data.columns.values))"
   ]
  },
  {
   "cell_type": "code",
   "execution_count": 13,
   "metadata": {},
   "outputs": [
    {
     "name": "stdout",
     "output_type": "stream",
     "text": [
      "      organism  time_limit termination_ll_fba  objective_value_ll_fba  \\\n",
      "0       iAF692        1800            OPTIMAL                   0.000   \n",
      "1       iJR904        1800            OPTIMAL                   0.000   \n",
      "2      iML1515        1800         TIME_LIMIT                   0.861   \n",
      "3  e_coli_core        1800            OPTIMAL                   0.874   \n",
      "4       iNF517        1800            OPTIMAL                   0.043   \n",
      "\n",
      "   time_ll_fba  feasibility_ll_fba termination_no_good_cuts  \\\n",
      "0            0                True               TIME_LIMIT   \n",
      "1            9                True               TIME_LIMIT   \n",
      "2         1800               False               TIME_LIMIT   \n",
      "3            0                True               TIME_LIMIT   \n",
      "4            9                True               TIME_LIMIT   \n",
      "\n",
      "   objective_value_no_good_cuts  time_no_good_cuts  feasibility_no_good_cuts  \\\n",
      "0                         0.027             1800.0                     False   \n",
      "1                         0.922             1800.0                     False   \n",
      "2                         0.877             1800.0                     False   \n",
      "3                         0.874             1800.0                     False   \n",
      "4                         0.043             1800.0                     False   \n",
      "\n",
      "   ...  times_mis_problem_mis_30.0  termination_cb_big_m_mis_30.0  \\\n",
      "0  ...                         0.0                        OPTIMAL   \n",
      "1  ...                         1.0                        OPTIMAL   \n",
      "2  ...                        13.0                     TIME_LIMIT   \n",
      "3  ...                         0.0                        OPTIMAL   \n",
      "4  ...                         0.0                        OPTIMAL   \n",
      "\n",
      "  objective_value_cb_big_m_mis_30.0  time_cb_big_m_mis_30.0  \\\n",
      "0                             0.027                    16.0   \n",
      "1                             0.922                    14.0   \n",
      "2                             0.877                  1800.0   \n",
      "3                             0.874                     5.0   \n",
      "4                             0.043                     7.0   \n",
      "\n",
      "   feasibility_cb_big_m_mis_30.0  cuts_cb_big_m_mis_30.0  \\\n",
      "0                           True                   398.0   \n",
      "1                           True                   282.0   \n",
      "2                          False                 12731.0   \n",
      "3                           True                     1.0   \n",
      "4                           True                   133.0   \n",
      "\n",
      "   iter_cb_big_m_mis_30.0  times_master_problem_big_m_mis_30.0  \\\n",
      "0                    13.0                                  0.0   \n",
      "1                     6.0                                  0.0   \n",
      "2                    41.0                                  6.0   \n",
      "3                     1.0                                  0.0   \n",
      "4                     4.0                                  0.0   \n",
      "\n",
      "   times_sub_problem_big_m_mis_30.0  times_mis_problem_big_m_mis_30.0  \n",
      "0                               0.0                               0.0  \n",
      "1                               0.0                               1.0  \n",
      "2                               0.0                              21.0  \n",
      "3                               0.0                               0.0  \n",
      "4                               0.0                               0.0  \n",
      "\n",
      "[5 rows x 200 columns]\n"
     ]
    }
   ],
   "source": [
    "print(df_data.head())"
   ]
  },
  {
   "cell_type": "code",
   "execution_count": 9,
   "metadata": {},
   "outputs": [],
   "source": [
    "df_data_cut_selection = pd.read_csv(file_cut_selection)"
   ]
  },
  {
   "cell_type": "code",
   "execution_count": 14,
   "metadata": {},
   "outputs": [
    {
     "name": "stdout",
     "output_type": "stream",
     "text": [
      "      organism  time_limit termination_cb_mis_0.1  objective_value_cb_mis_0.1  \\\n",
      "0       iAF692        1800                OPTIMAL                       0.027   \n",
      "1       iJR904        1800                OPTIMAL                       0.922   \n",
      "2      iML1515        1800                OPTIMAL                       0.877   \n",
      "3  e_coli_core        1800                OPTIMAL                       0.874   \n",
      "4       iNF517        1800                OPTIMAL                       0.043   \n",
      "\n",
      "   time_cb_mis_0.1  feasibility_cb_mis_0.1  cuts_cb_mis_0.1  iter_cb_mis_0.1  \\\n",
      "0               25                    True               17                9   \n",
      "1               22                    True               17               10   \n",
      "2              237                    True               52               17   \n",
      "3               13                    True                1                1   \n",
      "4               24                    True               34               23   \n",
      "\n",
      "   times_master_problem_mis_0.1  times_sub_problem_mis_0.1  ...  \\\n",
      "0                             1                          0  ...   \n",
      "1                             1                          0  ...   \n",
      "2                            11                          0  ...   \n",
      "3                             0                          0  ...   \n",
      "4                             0                          0  ...   \n",
      "\n",
      "   times_mis_problem_big_m_mis_30.0_max_cuts_0.3  \\\n",
      "0                                            NaN   \n",
      "1                                            NaN   \n",
      "2                                            NaN   \n",
      "3                                            NaN   \n",
      "4                                            NaN   \n",
      "\n",
      "  termination_cb_big_m_mis_30.0_max_cuts_0.4  \\\n",
      "0                                      ERROR   \n",
      "1                                      ERROR   \n",
      "2                                      ERROR   \n",
      "3                                      ERROR   \n",
      "4                                      ERROR   \n",
      "\n",
      "   objective_value_cb_big_m_mis_30.0_max_cuts_0.4  \\\n",
      "0                                             NaN   \n",
      "1                                             NaN   \n",
      "2                                             NaN   \n",
      "3                                             NaN   \n",
      "4                                             NaN   \n",
      "\n",
      "   time_cb_big_m_mis_30.0_max_cuts_0.4  \\\n",
      "0                                  NaN   \n",
      "1                                  NaN   \n",
      "2                                  NaN   \n",
      "3                                  NaN   \n",
      "4                                  NaN   \n",
      "\n",
      "   feasibility_cb_big_m_mis_30.0_max_cuts_0.4  \\\n",
      "0                                         NaN   \n",
      "1                                         NaN   \n",
      "2                                         NaN   \n",
      "3                                         NaN   \n",
      "4                                         NaN   \n",
      "\n",
      "   cuts_cb_big_m_mis_30.0_max_cuts_0.4  iter_cb_big_m_mis_30.0_max_cuts_0.4  \\\n",
      "0                                  NaN                                  NaN   \n",
      "1                                  NaN                                  NaN   \n",
      "2                                  NaN                                  NaN   \n",
      "3                                  NaN                                  NaN   \n",
      "4                                  NaN                                  NaN   \n",
      "\n",
      "   times_master_problem_big_m_mis_30.0_max_cuts_0.4  \\\n",
      "0                                               NaN   \n",
      "1                                               NaN   \n",
      "2                                               NaN   \n",
      "3                                               NaN   \n",
      "4                                               NaN   \n",
      "\n",
      "   times_sub_problem_big_m_mis_30.0_max_cuts_0.4  \\\n",
      "0                                            NaN   \n",
      "1                                            NaN   \n",
      "2                                            NaN   \n",
      "3                                            NaN   \n",
      "4                                            NaN   \n",
      "\n",
      "   times_mis_problem_big_m_mis_30.0_max_cuts_0.4  \n",
      "0                                            NaN  \n",
      "1                                            NaN  \n",
      "2                                            NaN  \n",
      "3                                            NaN  \n",
      "4                                            NaN  \n",
      "\n",
      "[5 rows x 2342 columns]\n"
     ]
    }
   ],
   "source": [
    "print(df_data_cut_selection.head())"
   ]
  },
  {
   "cell_type": "code",
   "execution_count": 10,
   "metadata": {},
   "outputs": [
    {
     "name": "stdout",
     "output_type": "stream",
     "text": [
      "      organism  time_limit_x termination_ll_fba  objective_value_ll_fba  \\\n",
      "0       iAF692          1800            OPTIMAL                   0.000   \n",
      "1       iJR904          1800            OPTIMAL                   0.000   \n",
      "2      iML1515          1800         TIME_LIMIT                   0.861   \n",
      "3  e_coli_core          1800            OPTIMAL                   0.874   \n",
      "4       iNF517          1800            OPTIMAL                   0.043   \n",
      "\n",
      "   time_ll_fba  feasibility_ll_fba termination_no_good_cuts  \\\n",
      "0            0                True               TIME_LIMIT   \n",
      "1            9                True               TIME_LIMIT   \n",
      "2         1800               False               TIME_LIMIT   \n",
      "3            0                True               TIME_LIMIT   \n",
      "4            9                True               TIME_LIMIT   \n",
      "\n",
      "   objective_value_no_good_cuts  time_no_good_cuts  feasibility_no_good_cuts  \\\n",
      "0                         0.027             1800.0                     False   \n",
      "1                         0.922             1800.0                     False   \n",
      "2                         0.877             1800.0                     False   \n",
      "3                         0.874             1800.0                     False   \n",
      "4                         0.043             1800.0                     False   \n",
      "\n",
      "   ...  times_mis_problem_big_m_mis_30.0_max_cuts_0.3  \\\n",
      "0  ...                                            NaN   \n",
      "1  ...                                            NaN   \n",
      "2  ...                                            NaN   \n",
      "3  ...                                            NaN   \n",
      "4  ...                                            NaN   \n",
      "\n",
      "   termination_cb_big_m_mis_30.0_max_cuts_0.4  \\\n",
      "0                                       ERROR   \n",
      "1                                       ERROR   \n",
      "2                                       ERROR   \n",
      "3                                       ERROR   \n",
      "4                                       ERROR   \n",
      "\n",
      "  objective_value_cb_big_m_mis_30.0_max_cuts_0.4  \\\n",
      "0                                            NaN   \n",
      "1                                            NaN   \n",
      "2                                            NaN   \n",
      "3                                            NaN   \n",
      "4                                            NaN   \n",
      "\n",
      "   time_cb_big_m_mis_30.0_max_cuts_0.4  \\\n",
      "0                                  NaN   \n",
      "1                                  NaN   \n",
      "2                                  NaN   \n",
      "3                                  NaN   \n",
      "4                                  NaN   \n",
      "\n",
      "   feasibility_cb_big_m_mis_30.0_max_cuts_0.4  \\\n",
      "0                                         NaN   \n",
      "1                                         NaN   \n",
      "2                                         NaN   \n",
      "3                                         NaN   \n",
      "4                                         NaN   \n",
      "\n",
      "   cuts_cb_big_m_mis_30.0_max_cuts_0.4  iter_cb_big_m_mis_30.0_max_cuts_0.4  \\\n",
      "0                                  NaN                                  NaN   \n",
      "1                                  NaN                                  NaN   \n",
      "2                                  NaN                                  NaN   \n",
      "3                                  NaN                                  NaN   \n",
      "4                                  NaN                                  NaN   \n",
      "\n",
      "   times_master_problem_big_m_mis_30.0_max_cuts_0.4  \\\n",
      "0                                               NaN   \n",
      "1                                               NaN   \n",
      "2                                               NaN   \n",
      "3                                               NaN   \n",
      "4                                               NaN   \n",
      "\n",
      "   times_sub_problem_big_m_mis_30.0_max_cuts_0.4  \\\n",
      "0                                            NaN   \n",
      "1                                            NaN   \n",
      "2                                            NaN   \n",
      "3                                            NaN   \n",
      "4                                            NaN   \n",
      "\n",
      "   times_mis_problem_big_m_mis_30.0_max_cuts_0.4  \n",
      "0                                            NaN  \n",
      "1                                            NaN  \n",
      "2                                            NaN  \n",
      "3                                            NaN  \n",
      "4                                            NaN  \n",
      "\n",
      "[5 rows x 2541 columns]\n"
     ]
    }
   ],
   "source": [
    "df_data = pd.merge(df_data, df_data_cut_selection, on=\"organism\")\n",
    "print(df_data.head())"
   ]
  },
  {
   "cell_type": "code",
   "execution_count": 11,
   "metadata": {},
   "outputs": [
    {
     "name": "stdout",
     "output_type": "stream",
     "text": [
      "False\n",
      "True\n"
     ]
    }
   ],
   "source": [
    "print(\"termination_cb_mis_2.0\" in list(df_data.columns.values))\n",
    "print(\"termination_ll_fba\" in list(df_data.columns.values))\n"
   ]
  },
  {
   "cell_type": "code",
   "execution_count": null,
   "metadata": {},
   "outputs": [],
   "source": []
  }
 ],
 "metadata": {
  "kernelspec": {
   "display_name": "base",
   "language": "python",
   "name": "python3"
  },
  "language_info": {
   "codemirror_mode": {
    "name": "ipython",
    "version": 3
   },
   "file_extension": ".py",
   "mimetype": "text/x-python",
   "name": "python",
   "nbconvert_exporter": "python",
   "pygments_lexer": "ipython3",
   "version": "3.8.3"
  }
 },
 "nbformat": 4,
 "nbformat_minor": 2
}
